{
 "cells": [
  {
   "cell_type": "markdown",
   "metadata": {},
   "source": [
    "#Data set\n"
   ]
  },
  {
   "cell_type": "code",
   "execution_count": 1,
   "metadata": {},
   "outputs": [],
   "source": [
    "from statsmodels.formula.api import ols\n",
    "from statsmodels.stats.outliers_influence import variance_inflation_factor\n",
    "import numpy as np # linear algebra\n",
    "import pandas as pd # data processing, CSV file I/O (e.g. pd.read_csv)\n",
    "from pathlib import Path\n",
    "import matplotlib.pyplot as plt # import matplotlib\n",
    "%matplotlib inline\n",
    "import seaborn as sns # seaborn data visualizer\n",
    "import matplotlib.pyplot as plt \n",
    "import seaborn as sns\n",
    "from scipy import stats\n",
    "import statsmodels.api as sm\n",
    "from statsmodels.formula.api import ols\n",
    "from sklearn.linear_model import LogisticRegression\n",
    "from sklearn.model_selection import train_test_split\n",
    "from sklearn.preprocessing import StandardScaler\n",
    "\n",
    "import os\n",
    "for dirname, _, filenames in os.walk('/kaggle/input'):\n",
    "    for filename in filenames:\n",
    "        print(os.path.join(dirname, filename))"
   ]
  },
  {
   "cell_type": "code",
   "execution_count": 2,
   "metadata": {},
   "outputs": [],
   "source": [
    "d11=pd.read_csv('data11.csv')\n",
    "d12=pd.read_csv('data12.csv')\n",
    "\n",
    "d21=pd.read_csv('data21.csv')\n",
    "d22=pd.read_csv('data22.csv')"
   ]
  },
  {
   "cell_type": "code",
   "execution_count": 3,
   "metadata": {},
   "outputs": [
    {
     "data": {
      "text/html": [
       "<div>\n",
       "<style scoped>\n",
       "    .dataframe tbody tr th:only-of-type {\n",
       "        vertical-align: middle;\n",
       "    }\n",
       "\n",
       "    .dataframe tbody tr th {\n",
       "        vertical-align: top;\n",
       "    }\n",
       "\n",
       "    .dataframe thead th {\n",
       "        text-align: right;\n",
       "    }\n",
       "</style>\n",
       "<table border=\"1\" class=\"dataframe\">\n",
       "  <thead>\n",
       "    <tr style=\"text-align: right;\">\n",
       "      <th></th>\n",
       "      <th>index</th>\n",
       "      <th>YEAR</th>\n",
       "      <th>MN</th>\n",
       "      <th>HR</th>\n",
       "      <th>DT</th>\n",
       "      <th>SLP</th>\n",
       "      <th>MSLP</th>\n",
       "      <th>DBT</th>\n",
       "      <th>WBT</th>\n",
       "      <th>DPT</th>\n",
       "      <th>RH</th>\n",
       "      <th>VP</th>\n",
       "      <th>DD</th>\n",
       "      <th>FFF</th>\n",
       "      <th>AW</th>\n",
       "    </tr>\n",
       "  </thead>\n",
       "  <tbody>\n",
       "    <tr>\n",
       "      <th>0</th>\n",
       "      <td>31</td>\n",
       "      <td>1985</td>\n",
       "      <td>1</td>\n",
       "      <td>48</td>\n",
       "      <td>1</td>\n",
       "      <td>931.7</td>\n",
       "      <td>1008.6</td>\n",
       "      <td>23.6</td>\n",
       "      <td>22.0</td>\n",
       "      <td>21.3</td>\n",
       "      <td>87</td>\n",
       "      <td>25.3</td>\n",
       "      <td>0</td>\n",
       "      <td>0</td>\n",
       "      <td>0</td>\n",
       "    </tr>\n",
       "    <tr>\n",
       "      <th>1</th>\n",
       "      <td>32</td>\n",
       "      <td>1985</td>\n",
       "      <td>1</td>\n",
       "      <td>48</td>\n",
       "      <td>2</td>\n",
       "      <td>934.1</td>\n",
       "      <td>1011.7</td>\n",
       "      <td>21.8</td>\n",
       "      <td>21.0</td>\n",
       "      <td>20.6</td>\n",
       "      <td>93</td>\n",
       "      <td>24.3</td>\n",
       "      <td>0</td>\n",
       "      <td>0</td>\n",
       "      <td>0</td>\n",
       "    </tr>\n",
       "    <tr>\n",
       "      <th>2</th>\n",
       "      <td>33</td>\n",
       "      <td>1985</td>\n",
       "      <td>1</td>\n",
       "      <td>48</td>\n",
       "      <td>3</td>\n",
       "      <td>935.8</td>\n",
       "      <td>1013.6</td>\n",
       "      <td>21.2</td>\n",
       "      <td>20.4</td>\n",
       "      <td>20.0</td>\n",
       "      <td>93</td>\n",
       "      <td>23.4</td>\n",
       "      <td>0</td>\n",
       "      <td>0</td>\n",
       "      <td>0</td>\n",
       "    </tr>\n",
       "    <tr>\n",
       "      <th>3</th>\n",
       "      <td>34</td>\n",
       "      <td>1985</td>\n",
       "      <td>1</td>\n",
       "      <td>48</td>\n",
       "      <td>4</td>\n",
       "      <td>935.0</td>\n",
       "      <td>1012.0</td>\n",
       "      <td>24.4</td>\n",
       "      <td>20.6</td>\n",
       "      <td>18.6</td>\n",
       "      <td>70</td>\n",
       "      <td>21.4</td>\n",
       "      <td>0</td>\n",
       "      <td>0</td>\n",
       "      <td>0</td>\n",
       "    </tr>\n",
       "    <tr>\n",
       "      <th>4</th>\n",
       "      <td>35</td>\n",
       "      <td>1985</td>\n",
       "      <td>1</td>\n",
       "      <td>48</td>\n",
       "      <td>5</td>\n",
       "      <td>934.1</td>\n",
       "      <td>1010.8</td>\n",
       "      <td>25.4</td>\n",
       "      <td>20.2</td>\n",
       "      <td>17.4</td>\n",
       "      <td>61</td>\n",
       "      <td>19.9</td>\n",
       "      <td>0</td>\n",
       "      <td>0</td>\n",
       "      <td>0</td>\n",
       "    </tr>\n",
       "    <tr>\n",
       "      <th>...</th>\n",
       "      <td>...</td>\n",
       "      <td>...</td>\n",
       "      <td>...</td>\n",
       "      <td>...</td>\n",
       "      <td>...</td>\n",
       "      <td>...</td>\n",
       "      <td>...</td>\n",
       "      <td>...</td>\n",
       "      <td>...</td>\n",
       "      <td>...</td>\n",
       "      <td>...</td>\n",
       "      <td>...</td>\n",
       "      <td>...</td>\n",
       "      <td>...</td>\n",
       "      <td>...</td>\n",
       "    </tr>\n",
       "    <tr>\n",
       "      <th>5937</th>\n",
       "      <td>11891</td>\n",
       "      <td>2001</td>\n",
       "      <td>12</td>\n",
       "      <td>48</td>\n",
       "      <td>27</td>\n",
       "      <td>937.7</td>\n",
       "      <td>1014.8</td>\n",
       "      <td>25.0</td>\n",
       "      <td>20.0</td>\n",
       "      <td>17.3</td>\n",
       "      <td>62</td>\n",
       "      <td>19.7</td>\n",
       "      <td>14</td>\n",
       "      <td>4</td>\n",
       "      <td>8</td>\n",
       "    </tr>\n",
       "    <tr>\n",
       "      <th>5938</th>\n",
       "      <td>11892</td>\n",
       "      <td>2001</td>\n",
       "      <td>12</td>\n",
       "      <td>48</td>\n",
       "      <td>28</td>\n",
       "      <td>937.6</td>\n",
       "      <td>1014.7</td>\n",
       "      <td>24.4</td>\n",
       "      <td>21.0</td>\n",
       "      <td>19.3</td>\n",
       "      <td>73</td>\n",
       "      <td>22.4</td>\n",
       "      <td>14</td>\n",
       "      <td>4</td>\n",
       "      <td>6</td>\n",
       "    </tr>\n",
       "    <tr>\n",
       "      <th>5939</th>\n",
       "      <td>11893</td>\n",
       "      <td>2001</td>\n",
       "      <td>12</td>\n",
       "      <td>48</td>\n",
       "      <td>29</td>\n",
       "      <td>936.0</td>\n",
       "      <td>1013.0</td>\n",
       "      <td>25.0</td>\n",
       "      <td>19.0</td>\n",
       "      <td>15.5</td>\n",
       "      <td>56</td>\n",
       "      <td>17.6</td>\n",
       "      <td>14</td>\n",
       "      <td>4</td>\n",
       "      <td>6</td>\n",
       "    </tr>\n",
       "    <tr>\n",
       "      <th>5940</th>\n",
       "      <td>11894</td>\n",
       "      <td>2001</td>\n",
       "      <td>12</td>\n",
       "      <td>48</td>\n",
       "      <td>30</td>\n",
       "      <td>936.2</td>\n",
       "      <td>1013.4</td>\n",
       "      <td>23.8</td>\n",
       "      <td>19.2</td>\n",
       "      <td>16.6</td>\n",
       "      <td>64</td>\n",
       "      <td>18.9</td>\n",
       "      <td>14</td>\n",
       "      <td>4</td>\n",
       "      <td>4</td>\n",
       "    </tr>\n",
       "    <tr>\n",
       "      <th>5941</th>\n",
       "      <td>11895</td>\n",
       "      <td>2001</td>\n",
       "      <td>12</td>\n",
       "      <td>48</td>\n",
       "      <td>31</td>\n",
       "      <td>935.9</td>\n",
       "      <td>1013.1</td>\n",
       "      <td>23.4</td>\n",
       "      <td>18.8</td>\n",
       "      <td>16.1</td>\n",
       "      <td>64</td>\n",
       "      <td>18.3</td>\n",
       "      <td>14</td>\n",
       "      <td>4</td>\n",
       "      <td>4</td>\n",
       "    </tr>\n",
       "  </tbody>\n",
       "</table>\n",
       "<p>5942 rows × 15 columns</p>\n",
       "</div>"
      ],
      "text/plain": [
       "      index  YEAR  MN  HR  DT    SLP    MSLP   DBT   WBT   DPT  RH    VP  DD  \\\n",
       "0        31  1985   1  48   1  931.7  1008.6  23.6  22.0  21.3  87  25.3   0   \n",
       "1        32  1985   1  48   2  934.1  1011.7  21.8  21.0  20.6  93  24.3   0   \n",
       "2        33  1985   1  48   3  935.8  1013.6  21.2  20.4  20.0  93  23.4   0   \n",
       "3        34  1985   1  48   4  935.0  1012.0  24.4  20.6  18.6  70  21.4   0   \n",
       "4        35  1985   1  48   5  934.1  1010.8  25.4  20.2  17.4  61  19.9   0   \n",
       "...     ...   ...  ..  ..  ..    ...     ...   ...   ...   ...  ..   ...  ..   \n",
       "5937  11891  2001  12  48  27  937.7  1014.8  25.0  20.0  17.3  62  19.7  14   \n",
       "5938  11892  2001  12  48  28  937.6  1014.7  24.4  21.0  19.3  73  22.4  14   \n",
       "5939  11893  2001  12  48  29  936.0  1013.0  25.0  19.0  15.5  56  17.6  14   \n",
       "5940  11894  2001  12  48  30  936.2  1013.4  23.8  19.2  16.6  64  18.9  14   \n",
       "5941  11895  2001  12  48  31  935.9  1013.1  23.4  18.8  16.1  64  18.3  14   \n",
       "\n",
       "     FFF AW  \n",
       "0      0  0  \n",
       "1      0  0  \n",
       "2      0  0  \n",
       "3      0  0  \n",
       "4      0  0  \n",
       "...   .. ..  \n",
       "5937   4  8  \n",
       "5938   4  6  \n",
       "5939   4  6  \n",
       "5940   4  4  \n",
       "5941   4  4  \n",
       "\n",
       "[5942 rows x 15 columns]"
      ]
     },
     "execution_count": 3,
     "metadata": {},
     "output_type": "execute_result"
    }
   ],
   "source": [
    "d12.drop(d12[d12['HR']<47].index, inplace = True)\n",
    "d12.reset_index(inplace = True)\n",
    "d12"
   ]
  },
  {
   "cell_type": "code",
   "execution_count": 4,
   "metadata": {},
   "outputs": [
    {
     "data": {
      "text/html": [
       "<div>\n",
       "<style scoped>\n",
       "    .dataframe tbody tr th:only-of-type {\n",
       "        vertical-align: middle;\n",
       "    }\n",
       "\n",
       "    .dataframe tbody tr th {\n",
       "        vertical-align: top;\n",
       "    }\n",
       "\n",
       "    .dataframe thead th {\n",
       "        text-align: right;\n",
       "    }\n",
       "</style>\n",
       "<table border=\"1\" class=\"dataframe\">\n",
       "  <thead>\n",
       "    <tr style=\"text-align: right;\">\n",
       "      <th></th>\n",
       "      <th>SLP</th>\n",
       "      <th>MSLP</th>\n",
       "      <th>DBT</th>\n",
       "      <th>WBT</th>\n",
       "      <th>DPT</th>\n",
       "      <th>RH</th>\n",
       "      <th>VP</th>\n",
       "      <th>DD</th>\n",
       "      <th>FFF</th>\n",
       "    </tr>\n",
       "  </thead>\n",
       "  <tbody>\n",
       "    <tr>\n",
       "      <th>0</th>\n",
       "      <td>931.7</td>\n",
       "      <td>1008.6</td>\n",
       "      <td>23.6</td>\n",
       "      <td>22.0</td>\n",
       "      <td>21.3</td>\n",
       "      <td>87</td>\n",
       "      <td>25.3</td>\n",
       "      <td>0</td>\n",
       "      <td>0</td>\n",
       "    </tr>\n",
       "    <tr>\n",
       "      <th>1</th>\n",
       "      <td>934.1</td>\n",
       "      <td>1011.7</td>\n",
       "      <td>21.8</td>\n",
       "      <td>21.0</td>\n",
       "      <td>20.6</td>\n",
       "      <td>93</td>\n",
       "      <td>24.3</td>\n",
       "      <td>0</td>\n",
       "      <td>0</td>\n",
       "    </tr>\n",
       "    <tr>\n",
       "      <th>2</th>\n",
       "      <td>935.8</td>\n",
       "      <td>1013.6</td>\n",
       "      <td>21.2</td>\n",
       "      <td>20.4</td>\n",
       "      <td>20.0</td>\n",
       "      <td>93</td>\n",
       "      <td>23.4</td>\n",
       "      <td>0</td>\n",
       "      <td>0</td>\n",
       "    </tr>\n",
       "    <tr>\n",
       "      <th>3</th>\n",
       "      <td>935.0</td>\n",
       "      <td>1012.0</td>\n",
       "      <td>24.4</td>\n",
       "      <td>20.6</td>\n",
       "      <td>18.6</td>\n",
       "      <td>70</td>\n",
       "      <td>21.4</td>\n",
       "      <td>0</td>\n",
       "      <td>0</td>\n",
       "    </tr>\n",
       "    <tr>\n",
       "      <th>4</th>\n",
       "      <td>934.1</td>\n",
       "      <td>1010.8</td>\n",
       "      <td>25.4</td>\n",
       "      <td>20.2</td>\n",
       "      <td>17.4</td>\n",
       "      <td>61</td>\n",
       "      <td>19.9</td>\n",
       "      <td>0</td>\n",
       "      <td>0</td>\n",
       "    </tr>\n",
       "    <tr>\n",
       "      <th>...</th>\n",
       "      <td>...</td>\n",
       "      <td>...</td>\n",
       "      <td>...</td>\n",
       "      <td>...</td>\n",
       "      <td>...</td>\n",
       "      <td>...</td>\n",
       "      <td>...</td>\n",
       "      <td>...</td>\n",
       "      <td>...</td>\n",
       "    </tr>\n",
       "    <tr>\n",
       "      <th>5937</th>\n",
       "      <td>937.7</td>\n",
       "      <td>1014.8</td>\n",
       "      <td>25.0</td>\n",
       "      <td>20.0</td>\n",
       "      <td>17.3</td>\n",
       "      <td>62</td>\n",
       "      <td>19.7</td>\n",
       "      <td>14</td>\n",
       "      <td>4</td>\n",
       "    </tr>\n",
       "    <tr>\n",
       "      <th>5938</th>\n",
       "      <td>937.6</td>\n",
       "      <td>1014.7</td>\n",
       "      <td>24.4</td>\n",
       "      <td>21.0</td>\n",
       "      <td>19.3</td>\n",
       "      <td>73</td>\n",
       "      <td>22.4</td>\n",
       "      <td>14</td>\n",
       "      <td>4</td>\n",
       "    </tr>\n",
       "    <tr>\n",
       "      <th>5939</th>\n",
       "      <td>936.0</td>\n",
       "      <td>1013.0</td>\n",
       "      <td>25.0</td>\n",
       "      <td>19.0</td>\n",
       "      <td>15.5</td>\n",
       "      <td>56</td>\n",
       "      <td>17.6</td>\n",
       "      <td>14</td>\n",
       "      <td>4</td>\n",
       "    </tr>\n",
       "    <tr>\n",
       "      <th>5940</th>\n",
       "      <td>936.2</td>\n",
       "      <td>1013.4</td>\n",
       "      <td>23.8</td>\n",
       "      <td>19.2</td>\n",
       "      <td>16.6</td>\n",
       "      <td>64</td>\n",
       "      <td>18.9</td>\n",
       "      <td>14</td>\n",
       "      <td>4</td>\n",
       "    </tr>\n",
       "    <tr>\n",
       "      <th>5941</th>\n",
       "      <td>935.9</td>\n",
       "      <td>1013.1</td>\n",
       "      <td>23.4</td>\n",
       "      <td>18.8</td>\n",
       "      <td>16.1</td>\n",
       "      <td>64</td>\n",
       "      <td>18.3</td>\n",
       "      <td>14</td>\n",
       "      <td>4</td>\n",
       "    </tr>\n",
       "  </tbody>\n",
       "</table>\n",
       "<p>5942 rows × 9 columns</p>\n",
       "</div>"
      ],
      "text/plain": [
       "        SLP    MSLP   DBT   WBT   DPT  RH    VP  DD FFF\n",
       "0     931.7  1008.6  23.6  22.0  21.3  87  25.3   0   0\n",
       "1     934.1  1011.7  21.8  21.0  20.6  93  24.3   0   0\n",
       "2     935.8  1013.6  21.2  20.4  20.0  93  23.4   0   0\n",
       "3     935.0  1012.0  24.4  20.6  18.6  70  21.4   0   0\n",
       "4     934.1  1010.8  25.4  20.2  17.4  61  19.9   0   0\n",
       "...     ...     ...   ...   ...   ...  ..   ...  ..  ..\n",
       "5937  937.7  1014.8  25.0  20.0  17.3  62  19.7  14   4\n",
       "5938  937.6  1014.7  24.4  21.0  19.3  73  22.4  14   4\n",
       "5939  936.0  1013.0  25.0  19.0  15.5  56  17.6  14   4\n",
       "5940  936.2  1013.4  23.8  19.2  16.6  64  18.9  14   4\n",
       "5941  935.9  1013.1  23.4  18.8  16.1  64  18.3  14   4\n",
       "\n",
       "[5942 rows x 9 columns]"
      ]
     },
     "execution_count": 4,
     "metadata": {},
     "output_type": "execute_result"
    }
   ],
   "source": [
    "#d12.drop(['YEAR'], axis = 1)\n",
    "d12.drop(d12.columns[[0,1, 2, 3,4,14]], axis = 1, inplace = True)\n",
    "d12"
   ]
  },
  {
   "cell_type": "code",
   "execution_count": 5,
   "metadata": {},
   "outputs": [
    {
     "data": {
      "text/html": [
       "<div>\n",
       "<style scoped>\n",
       "    .dataframe tbody tr th:only-of-type {\n",
       "        vertical-align: middle;\n",
       "    }\n",
       "\n",
       "    .dataframe tbody tr th {\n",
       "        vertical-align: top;\n",
       "    }\n",
       "\n",
       "    .dataframe thead th {\n",
       "        text-align: right;\n",
       "    }\n",
       "</style>\n",
       "<table border=\"1\" class=\"dataframe\">\n",
       "  <thead>\n",
       "    <tr style=\"text-align: right;\">\n",
       "      <th></th>\n",
       "      <th>YEAR</th>\n",
       "      <th>MN</th>\n",
       "      <th>DT</th>\n",
       "      <th>MAX</th>\n",
       "      <th>MIN</th>\n",
       "      <th>AW</th>\n",
       "      <th>RF</th>\n",
       "      <th>DRNRF(hrs)</th>\n",
       "      <th>DRNRF(mnts)</th>\n",
       "      <th>SLP</th>\n",
       "      <th>MSLP</th>\n",
       "      <th>DBT</th>\n",
       "      <th>WBT</th>\n",
       "      <th>DPT</th>\n",
       "      <th>RH</th>\n",
       "      <th>VP</th>\n",
       "      <th>DD</th>\n",
       "      <th>FFF</th>\n",
       "    </tr>\n",
       "  </thead>\n",
       "  <tbody>\n",
       "    <tr>\n",
       "      <th>0</th>\n",
       "      <td>1985</td>\n",
       "      <td>1</td>\n",
       "      <td>1</td>\n",
       "      <td>NaN</td>\n",
       "      <td>19.6</td>\n",
       "      <td>1</td>\n",
       "      <td>4.4</td>\n",
       "      <td></td>\n",
       "      <td></td>\n",
       "      <td>931.7</td>\n",
       "      <td>1008.6</td>\n",
       "      <td>23.6</td>\n",
       "      <td>22.0</td>\n",
       "      <td>21.3</td>\n",
       "      <td>87</td>\n",
       "      <td>25.3</td>\n",
       "      <td>0</td>\n",
       "      <td>0</td>\n",
       "    </tr>\n",
       "    <tr>\n",
       "      <th>1</th>\n",
       "      <td>1985</td>\n",
       "      <td>1</td>\n",
       "      <td>2</td>\n",
       "      <td>NaN</td>\n",
       "      <td>19.5</td>\n",
       "      <td>0</td>\n",
       "      <td>22.6</td>\n",
       "      <td>1</td>\n",
       "      <td>35</td>\n",
       "      <td>934.1</td>\n",
       "      <td>1011.7</td>\n",
       "      <td>21.8</td>\n",
       "      <td>21.0</td>\n",
       "      <td>20.6</td>\n",
       "      <td>93</td>\n",
       "      <td>24.3</td>\n",
       "      <td>0</td>\n",
       "      <td>0</td>\n",
       "    </tr>\n",
       "    <tr>\n",
       "      <th>2</th>\n",
       "      <td>1985</td>\n",
       "      <td>1</td>\n",
       "      <td>3</td>\n",
       "      <td>NaN</td>\n",
       "      <td>18.4</td>\n",
       "      <td>0</td>\n",
       "      <td>1.0</td>\n",
       "      <td>1</td>\n",
       "      <td>30</td>\n",
       "      <td>935.8</td>\n",
       "      <td>1013.6</td>\n",
       "      <td>21.2</td>\n",
       "      <td>20.4</td>\n",
       "      <td>20.0</td>\n",
       "      <td>93</td>\n",
       "      <td>23.4</td>\n",
       "      <td>0</td>\n",
       "      <td>0</td>\n",
       "    </tr>\n",
       "    <tr>\n",
       "      <th>3</th>\n",
       "      <td>1985</td>\n",
       "      <td>1</td>\n",
       "      <td>4</td>\n",
       "      <td>NaN</td>\n",
       "      <td>18.6</td>\n",
       "      <td>0</td>\n",
       "      <td>2.5</td>\n",
       "      <td></td>\n",
       "      <td></td>\n",
       "      <td>935.0</td>\n",
       "      <td>1012.0</td>\n",
       "      <td>24.4</td>\n",
       "      <td>20.6</td>\n",
       "      <td>18.6</td>\n",
       "      <td>70</td>\n",
       "      <td>21.4</td>\n",
       "      <td>0</td>\n",
       "      <td>0</td>\n",
       "    </tr>\n",
       "    <tr>\n",
       "      <th>4</th>\n",
       "      <td>1985</td>\n",
       "      <td>1</td>\n",
       "      <td>5</td>\n",
       "      <td>NaN</td>\n",
       "      <td>17.9</td>\n",
       "      <td>0</td>\n",
       "      <td>0.0</td>\n",
       "      <td>0</td>\n",
       "      <td>0</td>\n",
       "      <td>934.1</td>\n",
       "      <td>1010.8</td>\n",
       "      <td>25.4</td>\n",
       "      <td>20.2</td>\n",
       "      <td>17.4</td>\n",
       "      <td>61</td>\n",
       "      <td>19.9</td>\n",
       "      <td>0</td>\n",
       "      <td>0</td>\n",
       "    </tr>\n",
       "    <tr>\n",
       "      <th>...</th>\n",
       "      <td>...</td>\n",
       "      <td>...</td>\n",
       "      <td>...</td>\n",
       "      <td>...</td>\n",
       "      <td>...</td>\n",
       "      <td>...</td>\n",
       "      <td>...</td>\n",
       "      <td>...</td>\n",
       "      <td>...</td>\n",
       "      <td>...</td>\n",
       "      <td>...</td>\n",
       "      <td>...</td>\n",
       "      <td>...</td>\n",
       "      <td>...</td>\n",
       "      <td>...</td>\n",
       "      <td>...</td>\n",
       "      <td>...</td>\n",
       "      <td>...</td>\n",
       "    </tr>\n",
       "    <tr>\n",
       "      <th>6106</th>\n",
       "      <td>2001</td>\n",
       "      <td>12</td>\n",
       "      <td>27</td>\n",
       "      <td>27.5</td>\n",
       "      <td>16.5</td>\n",
       "      <td>3</td>\n",
       "      <td>0.0</td>\n",
       "      <td>0</td>\n",
       "      <td>0</td>\n",
       "      <td>NaN</td>\n",
       "      <td>NaN</td>\n",
       "      <td>NaN</td>\n",
       "      <td>NaN</td>\n",
       "      <td>NaN</td>\n",
       "      <td>NaN</td>\n",
       "      <td>NaN</td>\n",
       "      <td>NaN</td>\n",
       "      <td>NaN</td>\n",
       "    </tr>\n",
       "    <tr>\n",
       "      <th>6107</th>\n",
       "      <td>2001</td>\n",
       "      <td>12</td>\n",
       "      <td>28</td>\n",
       "      <td>28.0</td>\n",
       "      <td>16.4</td>\n",
       "      <td>4</td>\n",
       "      <td>0.0</td>\n",
       "      <td>0</td>\n",
       "      <td>0</td>\n",
       "      <td>NaN</td>\n",
       "      <td>NaN</td>\n",
       "      <td>NaN</td>\n",
       "      <td>NaN</td>\n",
       "      <td>NaN</td>\n",
       "      <td>NaN</td>\n",
       "      <td>NaN</td>\n",
       "      <td>NaN</td>\n",
       "      <td>NaN</td>\n",
       "    </tr>\n",
       "    <tr>\n",
       "      <th>6108</th>\n",
       "      <td>2001</td>\n",
       "      <td>12</td>\n",
       "      <td>29</td>\n",
       "      <td>27.0</td>\n",
       "      <td>16.0</td>\n",
       "      <td>3</td>\n",
       "      <td>0.0</td>\n",
       "      <td>0</td>\n",
       "      <td>0</td>\n",
       "      <td>NaN</td>\n",
       "      <td>NaN</td>\n",
       "      <td>NaN</td>\n",
       "      <td>NaN</td>\n",
       "      <td>NaN</td>\n",
       "      <td>NaN</td>\n",
       "      <td>NaN</td>\n",
       "      <td>NaN</td>\n",
       "      <td>NaN</td>\n",
       "    </tr>\n",
       "    <tr>\n",
       "      <th>6109</th>\n",
       "      <td>2001</td>\n",
       "      <td>12</td>\n",
       "      <td>30</td>\n",
       "      <td>26.5</td>\n",
       "      <td>15.0</td>\n",
       "      <td>3</td>\n",
       "      <td>0.0</td>\n",
       "      <td>0</td>\n",
       "      <td>0</td>\n",
       "      <td>NaN</td>\n",
       "      <td>NaN</td>\n",
       "      <td>NaN</td>\n",
       "      <td>NaN</td>\n",
       "      <td>NaN</td>\n",
       "      <td>NaN</td>\n",
       "      <td>NaN</td>\n",
       "      <td>NaN</td>\n",
       "      <td>NaN</td>\n",
       "    </tr>\n",
       "    <tr>\n",
       "      <th>6110</th>\n",
       "      <td>2001</td>\n",
       "      <td>12</td>\n",
       "      <td>31</td>\n",
       "      <td>25.5</td>\n",
       "      <td>16.0</td>\n",
       "      <td>3</td>\n",
       "      <td>0.0</td>\n",
       "      <td>0</td>\n",
       "      <td>0</td>\n",
       "      <td>NaN</td>\n",
       "      <td>NaN</td>\n",
       "      <td>NaN</td>\n",
       "      <td>NaN</td>\n",
       "      <td>NaN</td>\n",
       "      <td>NaN</td>\n",
       "      <td>NaN</td>\n",
       "      <td>NaN</td>\n",
       "      <td>NaN</td>\n",
       "    </tr>\n",
       "  </tbody>\n",
       "</table>\n",
       "<p>6111 rows × 18 columns</p>\n",
       "</div>"
      ],
      "text/plain": [
       "      YEAR  MN  DT   MAX   MIN AW    RF DRNRF(hrs) DRNRF(mnts)    SLP    MSLP  \\\n",
       "0     1985   1   1   NaN  19.6  1   4.4                         931.7  1008.6   \n",
       "1     1985   1   2   NaN  19.5  0  22.6          1          35  934.1  1011.7   \n",
       "2     1985   1   3   NaN  18.4  0   1.0          1          30  935.8  1013.6   \n",
       "3     1985   1   4   NaN  18.6  0   2.5                         935.0  1012.0   \n",
       "4     1985   1   5   NaN  17.9  0   0.0          0           0  934.1  1010.8   \n",
       "...    ...  ..  ..   ...   ... ..   ...        ...         ...    ...     ...   \n",
       "6106  2001  12  27  27.5  16.5  3   0.0          0           0    NaN     NaN   \n",
       "6107  2001  12  28  28.0  16.4  4   0.0          0           0    NaN     NaN   \n",
       "6108  2001  12  29  27.0  16.0  3   0.0          0           0    NaN     NaN   \n",
       "6109  2001  12  30  26.5  15.0  3   0.0          0           0    NaN     NaN   \n",
       "6110  2001  12  31  25.5  16.0  3   0.0          0           0    NaN     NaN   \n",
       "\n",
       "       DBT   WBT   DPT   RH    VP   DD  FFF  \n",
       "0     23.6  22.0  21.3   87  25.3    0    0  \n",
       "1     21.8  21.0  20.6   93  24.3    0    0  \n",
       "2     21.2  20.4  20.0   93  23.4    0    0  \n",
       "3     24.4  20.6  18.6   70  21.4    0    0  \n",
       "4     25.4  20.2  17.4   61  19.9    0    0  \n",
       "...    ...   ...   ...  ...   ...  ...  ...  \n",
       "6106   NaN   NaN   NaN  NaN   NaN  NaN  NaN  \n",
       "6107   NaN   NaN   NaN  NaN   NaN  NaN  NaN  \n",
       "6108   NaN   NaN   NaN  NaN   NaN  NaN  NaN  \n",
       "6109   NaN   NaN   NaN  NaN   NaN  NaN  NaN  \n",
       "6110   NaN   NaN   NaN  NaN   NaN  NaN  NaN  \n",
       "\n",
       "[6111 rows x 18 columns]"
      ]
     },
     "execution_count": 5,
     "metadata": {},
     "output_type": "execute_result"
    }
   ],
   "source": [
    "df = pd.concat([d11,d12],axis=1)\n",
    "df"
   ]
  },
  {
   "cell_type": "code",
   "execution_count": 6,
   "metadata": {},
   "outputs": [],
   "source": [
    "#removing the null rows in data base\n",
    "df=df.dropna()"
   ]
  },
  {
   "cell_type": "code",
   "execution_count": 7,
   "metadata": {},
   "outputs": [
    {
     "name": "stdout",
     "output_type": "stream",
     "text": [
      "['YEAR', 'MN', 'DT', 'MAX', 'MIN', 'AW', 'DRNRF(hrs)', 'DRNRF(mnts)', 'SLP', 'MSLP', 'DBT', 'WBT', 'DPT', 'RH', 'VP', 'DD', 'FFF']\n"
     ]
    }
   ],
   "source": [
    "features_list = list(df.drop(columns='RF').columns)\n",
    "columns = list(df.columns)\n",
    "print(features_list)"
   ]
  },
  {
   "cell_type": "code",
   "execution_count": 8,
   "metadata": {},
   "outputs": [
    {
     "name": "stderr",
     "output_type": "stream",
     "text": [
      "C:\\Users\\DHARAN~1\\AppData\\Local\\Temp/ipykernel_11328/4018324398.py:16: SettingWithCopyWarning: \n",
      "A value is trying to be set on a copy of a slice from a DataFrame.\n",
      "Try using .loc[row_indexer,col_indexer] = value instead\n",
      "\n",
      "See the caveats in the documentation: https://pandas.pydata.org/pandas-docs/stable/user_guide/indexing.html#returning-a-view-versus-a-copy\n",
      "  df['DRNF']=m\n"
     ]
    },
    {
     "data": {
      "text/html": [
       "<div>\n",
       "<style scoped>\n",
       "    .dataframe tbody tr th:only-of-type {\n",
       "        vertical-align: middle;\n",
       "    }\n",
       "\n",
       "    .dataframe tbody tr th {\n",
       "        vertical-align: top;\n",
       "    }\n",
       "\n",
       "    .dataframe thead th {\n",
       "        text-align: right;\n",
       "    }\n",
       "</style>\n",
       "<table border=\"1\" class=\"dataframe\">\n",
       "  <thead>\n",
       "    <tr style=\"text-align: right;\">\n",
       "      <th></th>\n",
       "      <th>YEAR</th>\n",
       "      <th>MN</th>\n",
       "      <th>DT</th>\n",
       "      <th>MAX</th>\n",
       "      <th>MIN</th>\n",
       "      <th>AW</th>\n",
       "      <th>RF</th>\n",
       "      <th>DRNRF(hrs)</th>\n",
       "      <th>DRNRF(mnts)</th>\n",
       "      <th>SLP</th>\n",
       "      <th>MSLP</th>\n",
       "      <th>DBT</th>\n",
       "      <th>WBT</th>\n",
       "      <th>DPT</th>\n",
       "      <th>RH</th>\n",
       "      <th>VP</th>\n",
       "      <th>DD</th>\n",
       "      <th>FFF</th>\n",
       "      <th>DRNF</th>\n",
       "    </tr>\n",
       "  </thead>\n",
       "  <tbody>\n",
       "    <tr>\n",
       "      <th>42</th>\n",
       "      <td>1985</td>\n",
       "      <td>2</td>\n",
       "      <td>15</td>\n",
       "      <td>32.7</td>\n",
       "      <td>18.5</td>\n",
       "      <td>5</td>\n",
       "      <td>0.0</td>\n",
       "      <td>0</td>\n",
       "      <td>0</td>\n",
       "      <td>928.6</td>\n",
       "      <td>1003.3</td>\n",
       "      <td>31.6</td>\n",
       "      <td>20.0</td>\n",
       "      <td>12.9</td>\n",
       "      <td>32</td>\n",
       "      <td>14.9</td>\n",
       "      <td>18</td>\n",
       "      <td>6</td>\n",
       "      <td>0.0</td>\n",
       "    </tr>\n",
       "    <tr>\n",
       "      <th>43</th>\n",
       "      <td>1985</td>\n",
       "      <td>2</td>\n",
       "      <td>16</td>\n",
       "      <td>31.8</td>\n",
       "      <td>19.1</td>\n",
       "      <td>1</td>\n",
       "      <td>0.0</td>\n",
       "      <td>0</td>\n",
       "      <td>0</td>\n",
       "      <td>928.6</td>\n",
       "      <td>1003.3</td>\n",
       "      <td>31.8</td>\n",
       "      <td>19.6</td>\n",
       "      <td>11.8</td>\n",
       "      <td>30</td>\n",
       "      <td>13.8</td>\n",
       "      <td>18</td>\n",
       "      <td>4</td>\n",
       "      <td>0.0</td>\n",
       "    </tr>\n",
       "    <tr>\n",
       "      <th>44</th>\n",
       "      <td>1985</td>\n",
       "      <td>2</td>\n",
       "      <td>17</td>\n",
       "      <td>30.6</td>\n",
       "      <td>18.6</td>\n",
       "      <td>2</td>\n",
       "      <td>0.0</td>\n",
       "      <td>0</td>\n",
       "      <td>0</td>\n",
       "      <td>927.7</td>\n",
       "      <td>1002.2</td>\n",
       "      <td>31.2</td>\n",
       "      <td>19.4</td>\n",
       "      <td>11.9</td>\n",
       "      <td>31</td>\n",
       "      <td>13.9</td>\n",
       "      <td>14</td>\n",
       "      <td>6</td>\n",
       "      <td>0.0</td>\n",
       "    </tr>\n",
       "    <tr>\n",
       "      <th>45</th>\n",
       "      <td>1985</td>\n",
       "      <td>2</td>\n",
       "      <td>18</td>\n",
       "      <td>29.8</td>\n",
       "      <td>17.6</td>\n",
       "      <td>5</td>\n",
       "      <td>0.0</td>\n",
       "      <td>0</td>\n",
       "      <td>0</td>\n",
       "      <td>926.4</td>\n",
       "      <td>1001.1</td>\n",
       "      <td>31.0</td>\n",
       "      <td>19.4</td>\n",
       "      <td>12.0</td>\n",
       "      <td>31</td>\n",
       "      <td>14</td>\n",
       "      <td>0</td>\n",
       "      <td>0</td>\n",
       "      <td>0.0</td>\n",
       "    </tr>\n",
       "    <tr>\n",
       "      <th>46</th>\n",
       "      <td>1985</td>\n",
       "      <td>2</td>\n",
       "      <td>19</td>\n",
       "      <td>28.8</td>\n",
       "      <td>17.4</td>\n",
       "      <td>3</td>\n",
       "      <td>0.0</td>\n",
       "      <td>0</td>\n",
       "      <td>0</td>\n",
       "      <td>927.4</td>\n",
       "      <td>1002.4</td>\n",
       "      <td>29.4</td>\n",
       "      <td>20.0</td>\n",
       "      <td>14.5</td>\n",
       "      <td>40</td>\n",
       "      <td>16.5</td>\n",
       "      <td>9</td>\n",
       "      <td>12</td>\n",
       "      <td>0.0</td>\n",
       "    </tr>\n",
       "    <tr>\n",
       "      <th>...</th>\n",
       "      <td>...</td>\n",
       "      <td>...</td>\n",
       "      <td>...</td>\n",
       "      <td>...</td>\n",
       "      <td>...</td>\n",
       "      <td>...</td>\n",
       "      <td>...</td>\n",
       "      <td>...</td>\n",
       "      <td>...</td>\n",
       "      <td>...</td>\n",
       "      <td>...</td>\n",
       "      <td>...</td>\n",
       "      <td>...</td>\n",
       "      <td>...</td>\n",
       "      <td>...</td>\n",
       "      <td>...</td>\n",
       "      <td>...</td>\n",
       "      <td>...</td>\n",
       "      <td>...</td>\n",
       "    </tr>\n",
       "    <tr>\n",
       "      <th>5937</th>\n",
       "      <td>2001</td>\n",
       "      <td>7</td>\n",
       "      <td>10</td>\n",
       "      <td>32.0</td>\n",
       "      <td>23.5</td>\n",
       "      <td>11</td>\n",
       "      <td>0.0</td>\n",
       "      <td>0</td>\n",
       "      <td>0</td>\n",
       "      <td>937.7</td>\n",
       "      <td>1014.8</td>\n",
       "      <td>25.0</td>\n",
       "      <td>20.0</td>\n",
       "      <td>17.3</td>\n",
       "      <td>62</td>\n",
       "      <td>19.7</td>\n",
       "      <td>14</td>\n",
       "      <td>4</td>\n",
       "      <td>0.0</td>\n",
       "    </tr>\n",
       "    <tr>\n",
       "      <th>5938</th>\n",
       "      <td>2001</td>\n",
       "      <td>7</td>\n",
       "      <td>11</td>\n",
       "      <td>32.5</td>\n",
       "      <td>24.0</td>\n",
       "      <td>10</td>\n",
       "      <td>1.8</td>\n",
       "      <td>0</td>\n",
       "      <td>8</td>\n",
       "      <td>937.6</td>\n",
       "      <td>1014.7</td>\n",
       "      <td>24.4</td>\n",
       "      <td>21.0</td>\n",
       "      <td>19.3</td>\n",
       "      <td>73</td>\n",
       "      <td>22.4</td>\n",
       "      <td>14</td>\n",
       "      <td>4</td>\n",
       "      <td>8.0</td>\n",
       "    </tr>\n",
       "    <tr>\n",
       "      <th>5939</th>\n",
       "      <td>2001</td>\n",
       "      <td>7</td>\n",
       "      <td>12</td>\n",
       "      <td>31.5</td>\n",
       "      <td>23.5</td>\n",
       "      <td>9</td>\n",
       "      <td>0.0</td>\n",
       "      <td>0</td>\n",
       "      <td>0</td>\n",
       "      <td>936.0</td>\n",
       "      <td>1013.0</td>\n",
       "      <td>25.0</td>\n",
       "      <td>19.0</td>\n",
       "      <td>15.5</td>\n",
       "      <td>56</td>\n",
       "      <td>17.6</td>\n",
       "      <td>14</td>\n",
       "      <td>4</td>\n",
       "      <td>0.0</td>\n",
       "    </tr>\n",
       "    <tr>\n",
       "      <th>5940</th>\n",
       "      <td>2001</td>\n",
       "      <td>7</td>\n",
       "      <td>13</td>\n",
       "      <td>32.5</td>\n",
       "      <td>24.0</td>\n",
       "      <td>7</td>\n",
       "      <td>0.0</td>\n",
       "      <td>0</td>\n",
       "      <td>0</td>\n",
       "      <td>936.2</td>\n",
       "      <td>1013.4</td>\n",
       "      <td>23.8</td>\n",
       "      <td>19.2</td>\n",
       "      <td>16.6</td>\n",
       "      <td>64</td>\n",
       "      <td>18.9</td>\n",
       "      <td>14</td>\n",
       "      <td>4</td>\n",
       "      <td>0.0</td>\n",
       "    </tr>\n",
       "    <tr>\n",
       "      <th>5941</th>\n",
       "      <td>2001</td>\n",
       "      <td>7</td>\n",
       "      <td>14</td>\n",
       "      <td>33.5</td>\n",
       "      <td>22.5</td>\n",
       "      <td>9</td>\n",
       "      <td>2.2</td>\n",
       "      <td>4</td>\n",
       "      <td>15</td>\n",
       "      <td>935.9</td>\n",
       "      <td>1013.1</td>\n",
       "      <td>23.4</td>\n",
       "      <td>18.8</td>\n",
       "      <td>16.1</td>\n",
       "      <td>64</td>\n",
       "      <td>18.3</td>\n",
       "      <td>14</td>\n",
       "      <td>4</td>\n",
       "      <td>255.0</td>\n",
       "    </tr>\n",
       "  </tbody>\n",
       "</table>\n",
       "<p>5787 rows × 19 columns</p>\n",
       "</div>"
      ],
      "text/plain": [
       "      YEAR  MN  DT   MAX   MIN  AW   RF DRNRF(hrs) DRNRF(mnts)    SLP    MSLP  \\\n",
       "42    1985   2  15  32.7  18.5   5  0.0          0           0  928.6  1003.3   \n",
       "43    1985   2  16  31.8  19.1   1  0.0          0           0  928.6  1003.3   \n",
       "44    1985   2  17  30.6  18.6   2  0.0          0           0  927.7  1002.2   \n",
       "45    1985   2  18  29.8  17.6   5  0.0          0           0  926.4  1001.1   \n",
       "46    1985   2  19  28.8  17.4   3  0.0          0           0  927.4  1002.4   \n",
       "...    ...  ..  ..   ...   ...  ..  ...        ...         ...    ...     ...   \n",
       "5937  2001   7  10  32.0  23.5  11  0.0          0           0  937.7  1014.8   \n",
       "5938  2001   7  11  32.5  24.0  10  1.8          0           8  937.6  1014.7   \n",
       "5939  2001   7  12  31.5  23.5   9  0.0          0           0  936.0  1013.0   \n",
       "5940  2001   7  13  32.5  24.0   7  0.0          0           0  936.2  1013.4   \n",
       "5941  2001   7  14  33.5  22.5   9  2.2          4          15  935.9  1013.1   \n",
       "\n",
       "       DBT   WBT   DPT  RH    VP  DD FFF   DRNF  \n",
       "42    31.6  20.0  12.9  32  14.9  18   6    0.0  \n",
       "43    31.8  19.6  11.8  30  13.8  18   4    0.0  \n",
       "44    31.2  19.4  11.9  31  13.9  14   6    0.0  \n",
       "45    31.0  19.4  12.0  31    14   0   0    0.0  \n",
       "46    29.4  20.0  14.5  40  16.5   9  12    0.0  \n",
       "...    ...   ...   ...  ..   ...  ..  ..    ...  \n",
       "5937  25.0  20.0  17.3  62  19.7  14   4    0.0  \n",
       "5938  24.4  21.0  19.3  73  22.4  14   4    8.0  \n",
       "5939  25.0  19.0  15.5  56  17.6  14   4    0.0  \n",
       "5940  23.8  19.2  16.6  64  18.9  14   4    0.0  \n",
       "5941  23.4  18.8  16.1  64  18.3  14   4  255.0  \n",
       "\n",
       "[5787 rows x 19 columns]"
      ]
     },
     "execution_count": 8,
     "metadata": {},
     "output_type": "execute_result"
    }
   ],
   "source": [
    "m=[]\n",
    "l=[]\n",
    "for i in df['DRNRF(mnts)']:\n",
    "    if(str(i).replace(\" \",'')!=''):\n",
    "        m+=[float(i)]\n",
    "    else:\n",
    "        m+=[0]\n",
    "for i in df['DRNRF(hrs)']:\n",
    "    if(str(i).replace(\" \",'')!=''):\n",
    "        l+=[float(i)*60]\n",
    "    else:\n",
    "        l+=[0]\n",
    "for i in range(len(m)):\n",
    "    m[i]+=l[i]\n",
    "\n",
    "df['DRNF']=m\n",
    "\n",
    "df\n"
   ]
  },
  {
   "cell_type": "code",
   "execution_count": 9,
   "metadata": {},
   "outputs": [],
   "source": [
    "df=df.drop(columns=['DRNRF(hrs)', 'DRNRF(mnts)'])"
   ]
  },
  {
   "cell_type": "code",
   "execution_count": 10,
   "metadata": {},
   "outputs": [
    {
     "name": "stdout",
     "output_type": "stream",
     "text": [
      "<class 'pandas.core.frame.DataFrame'>\n",
      "Int64Index: 5787 entries, 42 to 5941\n",
      "Data columns (total 17 columns):\n",
      " #   Column  Non-Null Count  Dtype  \n",
      "---  ------  --------------  -----  \n",
      " 0   YEAR    5787 non-null   int64  \n",
      " 1   MN      5787 non-null   int64  \n",
      " 2   DT      5787 non-null   int64  \n",
      " 3   MAX     5787 non-null   float64\n",
      " 4   MIN     5787 non-null   float64\n",
      " 5   AW      5787 non-null   object \n",
      " 6   RF      5787 non-null   float64\n",
      " 7   SLP     5787 non-null   float64\n",
      " 8   MSLP    5787 non-null   float64\n",
      " 9   DBT     5787 non-null   float64\n",
      " 10  WBT     5787 non-null   float64\n",
      " 11  DPT     5787 non-null   float64\n",
      " 12  RH      5787 non-null   object \n",
      " 13  VP      5787 non-null   object \n",
      " 14  DD      5787 non-null   object \n",
      " 15  FFF     5787 non-null   object \n",
      " 16  DRNF    5787 non-null   float64\n",
      "dtypes: float64(9), int64(3), object(5)\n",
      "memory usage: 813.8+ KB\n"
     ]
    }
   ],
   "source": [
    "df.info()"
   ]
  },
  {
   "cell_type": "code",
   "execution_count": 11,
   "metadata": {},
   "outputs": [],
   "source": [
    "FFF=[]\n",
    "AW=[]\n",
    "RH=[]\n",
    "VP=[]\n",
    "DD=[]\n",
    "for i in df['FFF']:\n",
    "    if(str(i).replace(\" \",'')!=''):\n",
    "        FFF+=[float(i)]\n",
    "    else:\n",
    "        FFF+=[0]\n",
    "for i in df['AW']:\n",
    "    if(str(i).replace(\" \",'')!='' and str(i)!='AW'):\n",
    "        AW+=[float(i)]\n",
    "    else:\n",
    "        AW+=[0]\n",
    "for i in df['RH']:\n",
    "    if(str(i).replace(\" \",'')!=''):\n",
    "        RH+=[float(i)]\n",
    "    else:\n",
    "        RH+=[0]\n",
    "for i in df['VP']:\n",
    "    if(str(i).replace(\" \",'')!=''):\n",
    "        VP+=[float(i)]\n",
    "    else:\n",
    "        VP+=[0]\n",
    "for i in df['DD']:\n",
    "    if(str(i).replace(\" \",'')!=''):\n",
    "        DD+=[float(i)]\n",
    "    else:\n",
    "        DD+=[0]\n",
    "df['FFF']=FFF\n",
    "df['AW']=AW\n",
    "df['RH']=RH\n",
    "df['VP']=VP\n",
    "df['DD']=DD\n",
    "\n",
    "\n"
   ]
  },
  {
   "cell_type": "code",
   "execution_count": 12,
   "metadata": {},
   "outputs": [
    {
     "name": "stdout",
     "output_type": "stream",
     "text": [
      "<class 'pandas.core.frame.DataFrame'>\n",
      "Int64Index: 5787 entries, 42 to 5941\n",
      "Data columns (total 17 columns):\n",
      " #   Column  Non-Null Count  Dtype  \n",
      "---  ------  --------------  -----  \n",
      " 0   YEAR    5787 non-null   int64  \n",
      " 1   MN      5787 non-null   int64  \n",
      " 2   DT      5787 non-null   int64  \n",
      " 3   MAX     5787 non-null   float64\n",
      " 4   MIN     5787 non-null   float64\n",
      " 5   AW      5787 non-null   float64\n",
      " 6   RF      5787 non-null   float64\n",
      " 7   SLP     5787 non-null   float64\n",
      " 8   MSLP    5787 non-null   float64\n",
      " 9   DBT     5787 non-null   float64\n",
      " 10  WBT     5787 non-null   float64\n",
      " 11  DPT     5787 non-null   float64\n",
      " 12  RH      5787 non-null   float64\n",
      " 13  VP      5787 non-null   float64\n",
      " 14  DD      5787 non-null   float64\n",
      " 15  FFF     5787 non-null   float64\n",
      " 16  DRNF    5787 non-null   float64\n",
      "dtypes: float64(14), int64(3)\n",
      "memory usage: 813.8 KB\n"
     ]
    }
   ],
   "source": [
    "df.info()"
   ]
  },
  {
   "cell_type": "code",
   "execution_count": 13,
   "metadata": {},
   "outputs": [
    {
     "name": "stdout",
     "output_type": "stream",
     "text": [
      "['YEAR', 'MN', 'DT', 'MAX', 'MIN', 'AW', 'RF', 'SLP', 'MSLP', 'DBT', 'WBT', 'DPT', 'RH', 'VP', 'DD', 'FFF', 'DRNF']\n"
     ]
    }
   ],
   "source": [
    "columns = list(df.columns)\n",
    "print(columns)"
   ]
  },
  {
   "cell_type": "code",
   "execution_count": 14,
   "metadata": {},
   "outputs": [
    {
     "data": {
      "text/plain": [
       "YEAR    0\n",
       "MN      0\n",
       "DT      0\n",
       "MAX     0\n",
       "MIN     0\n",
       "AW      0\n",
       "RF      0\n",
       "SLP     0\n",
       "MSLP    0\n",
       "DBT     0\n",
       "WBT     0\n",
       "DPT     0\n",
       "RH      0\n",
       "VP      0\n",
       "DD      0\n",
       "FFF     0\n",
       "DRNF    0\n",
       "dtype: int64"
      ]
     },
     "execution_count": 14,
     "metadata": {},
     "output_type": "execute_result"
    }
   ],
   "source": [
    "isnull = df.isnull().sum()\n",
    "isnull"
   ]
  },
  {
   "cell_type": "markdown",
   "metadata": {},
   "source": [
    "# Multicollinearity"
   ]
  },
  {
   "cell_type": "code",
   "execution_count": 15,
   "metadata": {},
   "outputs": [
    {
     "data": {
      "text/html": [
       "<div>\n",
       "<style scoped>\n",
       "    .dataframe tbody tr th:only-of-type {\n",
       "        vertical-align: middle;\n",
       "    }\n",
       "\n",
       "    .dataframe tbody tr th {\n",
       "        vertical-align: top;\n",
       "    }\n",
       "\n",
       "    .dataframe thead th {\n",
       "        text-align: right;\n",
       "    }\n",
       "</style>\n",
       "<table border=\"1\" class=\"dataframe\">\n",
       "  <thead>\n",
       "    <tr style=\"text-align: right;\">\n",
       "      <th></th>\n",
       "      <th>Variable</th>\n",
       "      <th>Estimate</th>\n",
       "      <th>VIF</th>\n",
       "    </tr>\n",
       "  </thead>\n",
       "  <tbody>\n",
       "    <tr>\n",
       "      <th>0</th>\n",
       "      <td>YEAR</td>\n",
       "      <td>-0.001492</td>\n",
       "      <td>1.152228</td>\n",
       "    </tr>\n",
       "    <tr>\n",
       "      <th>1</th>\n",
       "      <td>MN</td>\n",
       "      <td>0.050196</td>\n",
       "      <td>1.527581</td>\n",
       "    </tr>\n",
       "    <tr>\n",
       "      <th>2</th>\n",
       "      <td>DT</td>\n",
       "      <td>0.001375</td>\n",
       "      <td>1.006851</td>\n",
       "    </tr>\n",
       "    <tr>\n",
       "      <th>3</th>\n",
       "      <td>MAX</td>\n",
       "      <td>0.026261</td>\n",
       "      <td>2.553095</td>\n",
       "    </tr>\n",
       "    <tr>\n",
       "      <th>4</th>\n",
       "      <td>MIN</td>\n",
       "      <td>-0.012616</td>\n",
       "      <td>2.346943</td>\n",
       "    </tr>\n",
       "    <tr>\n",
       "      <th>5</th>\n",
       "      <td>AW</td>\n",
       "      <td>-0.030715</td>\n",
       "      <td>1.315602</td>\n",
       "    </tr>\n",
       "    <tr>\n",
       "      <th>6</th>\n",
       "      <td>SLP</td>\n",
       "      <td>-0.036400</td>\n",
       "      <td>19.262629</td>\n",
       "    </tr>\n",
       "    <tr>\n",
       "      <th>7</th>\n",
       "      <td>MSLP</td>\n",
       "      <td>0.054735</td>\n",
       "      <td>26.340467</td>\n",
       "    </tr>\n",
       "    <tr>\n",
       "      <th>8</th>\n",
       "      <td>DBT</td>\n",
       "      <td>0.046072</td>\n",
       "      <td>28.130862</td>\n",
       "    </tr>\n",
       "    <tr>\n",
       "      <th>9</th>\n",
       "      <td>WBT</td>\n",
       "      <td>-0.053059</td>\n",
       "      <td>30.421990</td>\n",
       "    </tr>\n",
       "    <tr>\n",
       "      <th>10</th>\n",
       "      <td>DPT</td>\n",
       "      <td>0.074589</td>\n",
       "      <td>28.108362</td>\n",
       "    </tr>\n",
       "    <tr>\n",
       "      <th>11</th>\n",
       "      <td>RH</td>\n",
       "      <td>0.036557</td>\n",
       "      <td>20.722775</td>\n",
       "    </tr>\n",
       "    <tr>\n",
       "      <th>12</th>\n",
       "      <td>VP</td>\n",
       "      <td>-0.016923</td>\n",
       "      <td>39.854513</td>\n",
       "    </tr>\n",
       "    <tr>\n",
       "      <th>13</th>\n",
       "      <td>DD</td>\n",
       "      <td>-0.007622</td>\n",
       "      <td>1.549746</td>\n",
       "    </tr>\n",
       "    <tr>\n",
       "      <th>14</th>\n",
       "      <td>FFF</td>\n",
       "      <td>0.001545</td>\n",
       "      <td>1.244320</td>\n",
       "    </tr>\n",
       "    <tr>\n",
       "      <th>15</th>\n",
       "      <td>DRNF</td>\n",
       "      <td>0.572952</td>\n",
       "      <td>1.058109</td>\n",
       "    </tr>\n",
       "  </tbody>\n",
       "</table>\n",
       "</div>"
      ],
      "text/plain": [
       "   Variable  Estimate        VIF\n",
       "0      YEAR -0.001492   1.152228\n",
       "1        MN  0.050196   1.527581\n",
       "2        DT  0.001375   1.006851\n",
       "3       MAX  0.026261   2.553095\n",
       "4       MIN -0.012616   2.346943\n",
       "5        AW -0.030715   1.315602\n",
       "6       SLP -0.036400  19.262629\n",
       "7      MSLP  0.054735  26.340467\n",
       "8       DBT  0.046072  28.130862\n",
       "9       WBT -0.053059  30.421990\n",
       "10      DPT  0.074589  28.108362\n",
       "11       RH  0.036557  20.722775\n",
       "12       VP -0.016923  39.854513\n",
       "13       DD -0.007622   1.549746\n",
       "14      FFF  0.001545   1.244320\n",
       "15     DRNF  0.572952   1.058109"
      ]
     },
     "execution_count": 15,
     "metadata": {},
     "output_type": "execute_result"
    }
   ],
   "source": [
    "def standardize_var(x):\n",
    "    mean = np.mean(x)\n",
    "    std = np.sqrt(np.sum(np.square(x-mean))/(len(x)-1))\n",
    "    return ((x-mean)/std)/np.sqrt(len(x)-1)\n",
    " \n",
    "sdf = df.apply(standardize_var) \n",
    "sdf_X = sdf[['YEAR', 'MN', 'DT', 'MAX', 'MIN', 'AW', 'SLP', 'MSLP', 'DBT', 'WBT', 'DPT', 'RH', 'VP', 'DD', 'FFF', 'DRNF']]\n",
    "corr = np.array(sdf_X.corr()) \n",
    "corr_inv = np.linalg.inv(corr) \n",
    " \n",
    "fit = ols('RF~YEAR+MN+DT+MAX+MIN+AW+SLP+MSLP+DBT+WBT+DPT+RH+VP+DD+FFF+DRNF',data=sdf).fit()\n",
    " \n",
    "variables = [] \n",
    "reg_coef = [] \n",
    "vif = [] \n",
    "for i in range(len(sdf_X.columns)):\n",
    "    col_name = sdf_X.columns[i]\n",
    "    variables.append(col_name)\n",
    "    reg_coef.append(fit.params[col_name])\n",
    "    vif.append(corr_inv[i][i])\n",
    "    \n",
    "df_res = pd.DataFrame()\n",
    "df_res['Variable'] = variables\n",
    "df_res['Estimate'] = reg_coef\n",
    "df_res['VIF'] = vif\n",
    "\n",
    "df_res"
   ]
  },
  {
   "cell_type": "code",
   "execution_count": 16,
   "metadata": {},
   "outputs": [
    {
     "data": {
      "text/plain": [
       "<AxesSubplot:title={'center':'Rainfall Correlation of Features'}>"
      ]
     },
     "execution_count": 16,
     "metadata": {},
     "output_type": "execute_result"
    },
    {
     "data": {
      "image/png": "[encoded data removed]",
      "text/plain": [
       "<Figure size 1584x1296 with 2 Axes>"
      ]
     },
     "metadata": {
      "needs_background": "light"
     },
     "output_type": "display_data"
    }
   ],
   "source": [
    "colormap = plt.cm.PuBu \n",
    "plt.figure(figsize=(22,18)) \n",
    "plt.title(\"Rainfall Correlation of Features\", y = 1.1, size = 16) \n",
    "sns.heatmap(df.astype(int).corr(), linewidths = 0.0, vmax = 1.0, \n",
    "            square = True, cmap = colormap, linecolor = \"white\", annot = True, annot_kws = {\"size\" : 16})"
   ]
  },
  {
   "cell_type": "code",
   "execution_count": 17,
   "metadata": {},
   "outputs": [],
   "source": [
    "features = df[['YEAR', 'MN', 'DT', 'MAX', 'MIN', 'AW', 'SLP', 'MSLP', 'DBT', 'WBT', 'DPT', 'RH', 'VP', 'DD', 'FFF', 'DRNF']]"
   ]
  },
  {
   "cell_type": "code",
   "execution_count": 18,
   "metadata": {},
   "outputs": [
    {
     "name": "stdout",
     "output_type": "stream",
     "text": [
      "      YEAR  MN  DT   MAX   MIN    AW    SLP    MSLP   DBT   WBT   DPT    RH  \\\n",
      "42    1985   2  15  32.7  18.5   5.0  928.6  1003.3  31.6  20.0  12.9  32.0   \n",
      "43    1985   2  16  31.8  19.1   1.0  928.6  1003.3  31.8  19.6  11.8  30.0   \n",
      "44    1985   2  17  30.6  18.6   2.0  927.7  1002.2  31.2  19.4  11.9  31.0   \n",
      "45    1985   2  18  29.8  17.6   5.0  926.4  1001.1  31.0  19.4  12.0  31.0   \n",
      "46    1985   2  19  28.8  17.4   3.0  927.4  1002.4  29.4  20.0  14.5  40.0   \n",
      "...    ...  ..  ..   ...   ...   ...    ...     ...   ...   ...   ...   ...   \n",
      "5937  2001   7  10  32.0  23.5  11.0  937.7  1014.8  25.0  20.0  17.3  62.0   \n",
      "5938  2001   7  11  32.5  24.0  10.0  937.6  1014.7  24.4  21.0  19.3  73.0   \n",
      "5939  2001   7  12  31.5  23.5   9.0  936.0  1013.0  25.0  19.0  15.5  56.0   \n",
      "5940  2001   7  13  32.5  24.0   7.0  936.2  1013.4  23.8  19.2  16.6  64.0   \n",
      "5941  2001   7  14  33.5  22.5   9.0  935.9  1013.1  23.4  18.8  16.1  64.0   \n",
      "\n",
      "        VP    DD   FFF   DRNF  \n",
      "42    14.9  18.0   6.0    0.0  \n",
      "43    13.8  18.0   4.0    0.0  \n",
      "44    13.9  14.0   6.0    0.0  \n",
      "45    14.0   0.0   0.0    0.0  \n",
      "46    16.5   9.0  12.0    0.0  \n",
      "...    ...   ...   ...    ...  \n",
      "5937  19.7  14.0   4.0    0.0  \n",
      "5938  22.4  14.0   4.0    8.0  \n",
      "5939  17.6  14.0   4.0    0.0  \n",
      "5940  18.9  14.0   4.0    0.0  \n",
      "5941  18.3  14.0   4.0  255.0  \n",
      "\n",
      "[5787 rows x 16 columns]\n"
     ]
    }
   ],
   "source": [
    "Y = df['RF']\n",
    "print(features)"
   ]
  },
  {
   "cell_type": "code",
   "execution_count": 19,
   "metadata": {},
   "outputs": [],
   "source": [
    "train_features, test_features, train_labels, test_labels = train_test_split(features, Y)"
   ]
  },
  {
   "cell_type": "code",
   "execution_count": 20,
   "metadata": {},
   "outputs": [],
   "source": [
    "scaler = StandardScaler()\n",
    "train_features = scaler.fit_transform(train_features)\n",
    "test_features = scaler.transform(test_features)\n",
    "from sklearn import preprocessing\n",
    "lab = preprocessing.LabelEncoder()\n",
    "train_labels = lab.fit_transform(train_labels)\n"
   ]
  },
  {
   "cell_type": "code",
   "execution_count": 21,
   "metadata": {},
   "outputs": [],
   "source": [
    "accuracy={}"
   ]
  },
  {
   "cell_type": "markdown",
   "metadata": {},
   "source": [
    "# Linear Regression\n"
   ]
  },
  {
   "cell_type": "code",
   "execution_count": 22,
   "metadata": {},
   "outputs": [
    {
     "data": {
      "text/plain": [
       "LinearRegression()"
      ]
     },
     "execution_count": 22,
     "metadata": {},
     "output_type": "execute_result"
    }
   ],
   "source": [
    "from sklearn.linear_model import LinearRegression\n",
    "model = LinearRegression()\n",
    "model.fit(train_features, train_labels)"
   ]
  },
  {
   "cell_type": "code",
   "execution_count": 23,
   "metadata": {},
   "outputs": [
    {
     "name": "stdout",
     "output_type": "stream",
     "text": [
      "LinearRegression: 0.3557871861214509\n"
     ]
    }
   ],
   "source": [
    "accuracy[\"Lin R\"]=model.score(train_features, train_labels)\n",
    "print(\"LinearRegression:\",model.score(train_features, train_labels))"
   ]
  },
  {
   "cell_type": "code",
   "execution_count": 24,
   "metadata": {},
   "outputs": [
    {
     "name": "stderr",
     "output_type": "stream",
     "text": [
      "C:\\Users\\Dharanidhar\\anaconda3\\lib\\site-packages\\sklearn\\linear_model\\_logistic.py:763: ConvergenceWarning: lbfgs failed to converge (status=1):\n",
      "STOP: TOTAL NO. of ITERATIONS REACHED LIMIT.\n",
      "\n",
      "Increase the number of iterations (max_iter) or scale the data as shown in:\n",
      "    https://scikit-learn.org/stable/modules/preprocessing.html\n",
      "Please also refer to the documentation for alternative solver options:\n",
      "    https://scikit-learn.org/stable/modules/linear_model.html#logistic-regression\n",
      "  n_iter_i = _check_optimize_result(\n"
     ]
    },
    {
     "data": {
      "text/plain": [
       "LogisticRegression()"
      ]
     },
     "execution_count": 24,
     "metadata": {},
     "output_type": "execute_result"
    }
   ],
   "source": [
    "\n",
    "from sklearn.linear_model import LogisticRegression\n",
    "model = LogisticRegression()\n",
    "model.fit(train_features, train_labels)"
   ]
  },
  {
   "cell_type": "code",
   "execution_count": 25,
   "metadata": {},
   "outputs": [
    {
     "name": "stdout",
     "output_type": "stream",
     "text": [
      "LogisticRegression: 0.783410138248848\n"
     ]
    }
   ],
   "source": [
    "accuracy[\"Log R\"]=model.score(train_features, train_labels)\n",
    "print(\"LogisticRegression:\",model.score(train_features, train_labels))\n"
   ]
  },
  {
   "cell_type": "code",
   "execution_count": 26,
   "metadata": {},
   "outputs": [
    {
     "data": {
      "text/plain": [
       "ARDRegression()"
      ]
     },
     "execution_count": 26,
     "metadata": {},
     "output_type": "execute_result"
    }
   ],
   "source": [
    "from sklearn.linear_model import ARDRegression\n",
    "model = ARDRegression()\n",
    "model.fit(train_features, train_labels)\n"
   ]
  },
  {
   "cell_type": "code",
   "execution_count": 27,
   "metadata": {},
   "outputs": [
    {
     "name": "stdout",
     "output_type": "stream",
     "text": [
      "0.354879597344368\n"
     ]
    }
   ],
   "source": [
    "print(model.score(train_features, train_labels))"
   ]
  },
  {
   "cell_type": "code",
   "execution_count": 28,
   "metadata": {},
   "outputs": [
    {
     "data": {
      "text/plain": [
       "KNeighborsClassifier()"
      ]
     },
     "execution_count": 28,
     "metadata": {},
     "output_type": "execute_result"
    }
   ],
   "source": [
    "from sklearn.neighbors import KNeighborsClassifier\n",
    "model = KNeighborsClassifier()\n",
    "model.fit(train_features, train_labels)\n"
   ]
  },
  {
   "cell_type": "code",
   "execution_count": 29,
   "metadata": {},
   "outputs": [
    {
     "name": "stdout",
     "output_type": "stream",
     "text": [
      "K Nearest Neighbors: 0.7820276497695853\n"
     ]
    }
   ],
   "source": [
    "accuracy[\"KNN\"]=model.score(train_features, train_labels)\n",
    "\n",
    "print(\"K Nearest Neighbors:\",model.score(train_features, train_labels))\n"
   ]
  },
  {
   "cell_type": "code",
   "execution_count": 30,
   "metadata": {},
   "outputs": [
    {
     "data": {
      "text/plain": [
       "DecisionTreeClassifier(criterion='entropy', max_depth=5)"
      ]
     },
     "execution_count": 30,
     "metadata": {},
     "output_type": "execute_result"
    }
   ],
   "source": [
    "from sklearn.tree import DecisionTreeClassifier\n",
    "model = DecisionTreeClassifier(criterion=\"entropy\", max_depth=5)\n",
    "model.fit(train_features, train_labels)\n"
   ]
  },
  {
   "cell_type": "code",
   "execution_count": 31,
   "metadata": {},
   "outputs": [
    {
     "name": "stdout",
     "output_type": "stream",
     "text": [
      "Decision Tree: 0.7741935483870968\n"
     ]
    }
   ],
   "source": [
    "DecisionTreeClassifier(criterion='entropy', max_depth=5)\n",
    "\n",
    "accuracy[\"DTree\"]=model.score(train_features, train_labels)\n",
    "\n",
    "print(\"Decision Tree:\",model.score(train_features, train_labels))\n"
   ]
  },
  {
   "cell_type": "code",
   "execution_count": 32,
   "metadata": {},
   "outputs": [
    {
     "data": {
      "text/plain": [
       "SVC()"
      ]
     },
     "execution_count": 32,
     "metadata": {},
     "output_type": "execute_result"
    }
   ],
   "source": [
    "from sklearn import svm\n",
    "model = svm.SVC()\n",
    "model.fit(train_features, train_labels)\n"
   ]
  },
  {
   "cell_type": "code",
   "execution_count": 33,
   "metadata": {},
   "outputs": [
    {
     "name": "stdout",
     "output_type": "stream",
     "text": [
      "Support Vector Machine: 0.7735023041474655\n"
     ]
    }
   ],
   "source": [
    "\n",
    "\n",
    "accuracy[\"SVM\"]=model.score(train_features, train_labels)\n",
    "\n",
    "print(\"Support Vector Machine:\",model.score(train_features, train_labels))\n"
   ]
  },
  {
   "cell_type": "code",
   "execution_count": 34,
   "metadata": {},
   "outputs": [
    {
     "data": {
      "text/plain": [
       "GaussianNB()"
      ]
     },
     "execution_count": 34,
     "metadata": {},
     "output_type": "execute_result"
    }
   ],
   "source": [
    "from sklearn.naive_bayes import GaussianNB\n",
    "model = GaussianNB()\n",
    "model.fit(train_features, train_labels)\n"
   ]
  },
  {
   "cell_type": "code",
   "execution_count": 35,
   "metadata": {},
   "outputs": [
    {
     "name": "stdout",
     "output_type": "stream",
     "text": [
      "Naïve Bayes: 0.6806451612903226\n"
     ]
    }
   ],
   "source": [
    "GaussianNB()\n",
    "\n",
    "accuracy[\"NB\"]=model.score(train_features, train_labels)\n",
    "\n",
    "print(\"Naïve Bayes:\",model.score(train_features, train_labels))\n"
   ]
  },
  {
   "cell_type": "code",
   "execution_count": 36,
   "metadata": {},
   "outputs": [
    {
     "data": {
      "text/plain": [
       "RandomForestRegressor()"
      ]
     },
     "execution_count": 36,
     "metadata": {},
     "output_type": "execute_result"
    }
   ],
   "source": [
    "from sklearn.ensemble import RandomForestRegressor\n",
    "model=RandomForestRegressor()\n",
    "model.fit(train_features, train_labels)\n"
   ]
  },
  {
   "cell_type": "code",
   "execution_count": 37,
   "metadata": {},
   "outputs": [
    {
     "name": "stdout",
     "output_type": "stream",
     "text": [
      "Random Forest: 0.9268304283662732\n"
     ]
    }
   ],
   "source": [
    "RandomForestRegressor()\n",
    "\n",
    "accuracy[\"RF\"]=model.score(train_features, train_labels)\n",
    "\n",
    "print(\"Random Forest:\",model.score(train_features, train_labels))\n"
   ]
  },
  {
   "cell_type": "markdown",
   "metadata": {},
   "source": [
    "accuracy"
   ]
  },
  {
   "cell_type": "code",
   "execution_count": 38,
   "metadata": {},
   "outputs": [
    {
     "data": {
      "text/plain": [
       "{'Lin R': 0.3557871861214509,\n",
       " 'Log R': 0.783410138248848,\n",
       " 'KNN': 0.7820276497695853,\n",
       " 'DTree': 0.7741935483870968,\n",
       " 'SVM': 0.7735023041474655,\n",
       " 'NB': 0.6806451612903226,\n",
       " 'RF': 0.9268304283662732}"
      ]
     },
     "execution_count": 38,
     "metadata": {},
     "output_type": "execute_result"
    }
   ],
   "source": [
    "accuracy"
   ]
  },
  {
   "cell_type": "code",
   "execution_count": 39,
   "metadata": {},
   "outputs": [
    {
     "data": {
      "text/plain": [
       "<BarContainer object of 7 artists>"
      ]
     },
     "execution_count": 39,
     "metadata": {},
     "output_type": "execute_result"
    },
    {
     "data": {
      "image/png": "[encoded data removed]",
      "text/plain": [
       "<Figure size 432x288 with 1 Axes>"
      ]
     },
     "metadata": {
      "needs_background": "light"
     },
     "output_type": "display_data"
    }
   ],
   "source": [
    "import matplotlib.pyplot as plt\n",
    "algo=list(accuracy.keys())\n",
    "accu=list(accuracy.values())\n",
    "plt.bar(range(len(accuracy)),accu,tick_label=algo)\n"
   ]
  },
  {
   "cell_type": "code",
   "execution_count": 40,
   "metadata": {},
   "outputs": [
    {
     "name": "stdout",
     "output_type": "stream",
     "text": [
      "The algorithm which provides highest algorithm is RF with accuracy  0.9268304283662732\n"
     ]
    }
   ],
   "source": [
    "m=0\n",
    "algorithm=''\n",
    "for i in accuracy:\n",
    "    if(accuracy[i]>m):\n",
    "        m=accuracy[i]\n",
    "        algorithm=i\n",
    "print(\"The algorithm which provides highest algorithm is\",algorithm,\"with accuracy \",m)\n"
   ]
  },
  {
   "cell_type": "markdown",
   "metadata": {},
   "source": [
    "Implementing the rangom forest "
   ]
  },
  {
   "cell_type": "code",
   "execution_count": 41,
   "metadata": {},
   "outputs": [
    {
     "name": "stdout",
     "output_type": "stream",
     "text": [
      "Enter the value of  YEAR :\n",
      "2022\n",
      "Enter the value of  MN :\n",
      "223\n",
      "Enter the value of  DT :\n",
      "36\n",
      "Enter the value of  MAX :\n",
      "2\n",
      "Enter the value of  MIN :\n",
      "2\n",
      "Enter the value of  AW :\n",
      "2\n",
      "Enter the value of  SLP :\n",
      "1\n",
      "Enter the value of  MSLP :\n",
      "5\n",
      "Enter the value of  DBT :\n",
      "2\n",
      "Enter the value of  WBT :\n",
      "4\n",
      "Enter the value of  DPT :\n",
      "2\n",
      "Enter the value of  RH :\n",
      "13\n",
      "Enter the value of  VP :\n",
      "6\n",
      "Enter the value of  DD :\n",
      "3\n",
      "Enter the value of  FFF :\n",
      "1\n",
      "Enter the value of  DRNF :\n",
      "4\n",
      "Enter the whatsapp number:9177963364\n"
     ]
    },
    {
     "name": "stderr",
     "output_type": "stream",
     "text": [
      "C:\\Users\\Dharanidhar\\anaconda3\\lib\\site-packages\\pandas\\core\\indexing.py:1797: SettingWithCopyWarning: \n",
      "A value is trying to be set on a copy of a slice from a DataFrame.\n",
      "Try using .loc[row_indexer,col_indexer] = value instead\n",
      "\n",
      "See the caveats in the documentation: https://pandas.pydata.org/pandas-docs/stable/user_guide/indexing.html#returning-a-view-versus-a-copy\n",
      "  self._setitem_single_column(loc, v, pi)\n"
     ]
    }
   ],
   "source": [
    "def random_forest(l):\n",
    "    train_features, test_features, train_labels, test_labels = train_test_split(features, Y)\n",
    "    train_features.iloc[-1]=l\n",
    "    model=RandomForestRegressor()\n",
    "    model.fit(train_features, train_labels)\n",
    "    predicted_value=model.predict(train_features)\n",
    "    return predicted_value[-1]\n",
    "user_input=[]\n",
    "for i in features:\n",
    "    print(\"Enter the value of \",i,\":\")\n",
    "    user_input+=[float(input())]\n",
    "phone_number=''\n",
    "while(len(phone_number)!=10):\n",
    "    phone_number=input('Enter the whatsapp number:')\n",
    "    try:\n",
    "        n=int(phone_number)\n",
    "    except:\n",
    "        print(\"Enter phone number is not valid.\")\n",
    "    if (len(phone_number)!=10):\n",
    "        print(\"Enter phone number is not valid.\")\n",
    "    result =random_forest(user_input)\n"
   ]
  },
  {
   "cell_type": "code",
   "execution_count": 47,
   "metadata": {},
   "outputs": [],
   "source": [
    "message =\"today rainfall is nearly \"+str(result)"
   ]
  },
  {
   "cell_type": "code",
   "execution_count": 43,
   "metadata": {},
   "outputs": [
    {
     "name": "stdout",
     "output_type": "stream",
     "text": [
      "Requirement already satisfied: pywhatkit in c:\\users\\dharanidhar\\anaconda3\\lib\\site-packages (5.4)\n",
      "Requirement already satisfied: Flask in c:\\users\\dharanidhar\\anaconda3\\lib\\site-packages (from pywhatkit) (1.1.2)\n",
      "Requirement already satisfied: pyautogui in c:\\users\\dharanidhar\\anaconda3\\lib\\site-packages (from pywhatkit) (0.9.53)\n",
      "Requirement already satisfied: Pillow in c:\\users\\dharanidhar\\anaconda3\\lib\\site-packages (from pywhatkit) (8.4.0)\n",
      "Requirement already satisfied: requests in c:\\users\\dharanidhar\\anaconda3\\lib\\site-packages (from pywhatkit) (2.26.0)\n",
      "Requirement already satisfied: wikipedia in c:\\users\\dharanidhar\\anaconda3\\lib\\site-packages (from pywhatkit) (1.4.0)\n",
      "Requirement already satisfied: click>=5.1 in c:\\users\\dharanidhar\\anaconda3\\lib\\site-packages (from Flask->pywhatkit) (8.0.3)\n",
      "Requirement already satisfied: Jinja2>=2.10.1 in c:\\users\\dharanidhar\\anaconda3\\lib\\site-packages (from Flask->pywhatkit) (2.11.3)\n",
      "Requirement already satisfied: itsdangerous>=0.24 in c:\\users\\dharanidhar\\anaconda3\\lib\\site-packages (from Flask->pywhatkit) (2.0.1)\n",
      "Requirement already satisfied: Werkzeug>=0.15 in c:\\users\\dharanidhar\\anaconda3\\lib\\site-packages (from Flask->pywhatkit) (2.0.2)\n",
      "Requirement already satisfied: colorama in c:\\users\\dharanidhar\\anaconda3\\lib\\site-packages (from click>=5.1->Flask->pywhatkit) (0.4.4)\n",
      "Requirement already satisfied: MarkupSafe>=0.23 in c:\\users\\dharanidhar\\anaconda3\\lib\\site-packages (from Jinja2>=2.10.1->Flask->pywhatkit) (1.1.1)\n",
      "Requirement already satisfied: pymsgbox in c:\\users\\dharanidhar\\anaconda3\\lib\\site-packages (from pyautogui->pywhatkit) (1.0.9)\n",
      "Requirement already satisfied: PyTweening>=1.0.1 in c:\\users\\dharanidhar\\anaconda3\\lib\\site-packages (from pyautogui->pywhatkit) (1.0.4)\n",
      "Requirement already satisfied: pygetwindow>=0.0.5 in c:\\users\\dharanidhar\\anaconda3\\lib\\site-packages (from pyautogui->pywhatkit) (0.0.9)\n",
      "Requirement already satisfied: pyscreeze>=0.1.21 in c:\\users\\dharanidhar\\anaconda3\\lib\\site-packages (from pyautogui->pywhatkit) (0.1.28)\n",
      "Requirement already satisfied: mouseinfo in c:\\users\\dharanidhar\\anaconda3\\lib\\site-packages (from pyautogui->pywhatkit) (0.1.3)\n",
      "Requirement already satisfied: pyrect in c:\\users\\dharanidhar\\anaconda3\\lib\\site-packages (from pygetwindow>=0.0.5->pyautogui->pywhatkit) (0.2.0)\n",
      "Requirement already satisfied: pyperclip in c:\\users\\dharanidhar\\anaconda3\\lib\\site-packages (from mouseinfo->pyautogui->pywhatkit) (1.8.2)\n",
      "Requirement already satisfied: urllib3<1.27,>=1.21.1 in c:\\users\\dharanidhar\\anaconda3\\lib\\site-packages (from requests->pywhatkit) (1.26.7)\n",
      "Requirement already satisfied: charset-normalizer~=2.0.0 in c:\\users\\dharanidhar\\anaconda3\\lib\\site-packages (from requests->pywhatkit) (2.0.4)\n",
      "Requirement already satisfied: idna<4,>=2.5 in c:\\users\\dharanidhar\\anaconda3\\lib\\site-packages (from requests->pywhatkit) (3.2)\n",
      "Requirement already satisfied: certifi>=2017.4.17 in c:\\users\\dharanidhar\\anaconda3\\lib\\site-packages (from requests->pywhatkit) (2021.10.8)\n",
      "Requirement already satisfied: beautifulsoup4 in c:\\users\\dharanidhar\\anaconda3\\lib\\site-packages (from wikipedia->pywhatkit) (4.10.0)\n",
      "Requirement already satisfied: soupsieve>1.2 in c:\\users\\dharanidhar\\anaconda3\\lib\\site-packages (from beautifulsoup4->wikipedia->pywhatkit) (2.2.1)\n",
      "Note: you may need to restart the kernel to use updated packages.\n"
     ]
    }
   ],
   "source": [
    "pip install pywhatkit"
   ]
  },
  {
   "cell_type": "code",
   "execution_count": 49,
   "metadata": {},
   "outputs": [
    {
     "name": "stdout",
     "output_type": "stream",
     "text": [
      "19 37\n"
     ]
    }
   ],
   "source": [
    "from datetime import datetime\n",
    "now = datetime.now()\n",
    "time = now.strftime(\"%H:%M:%S\")\n",
    "h=int(time[0:2])\n",
    "m=int(time[3:5])+2\n",
    "print(h,m)"
   ]
  },
  {
   "cell_type": "code",
   "execution_count": 50,
   "metadata": {},
   "outputs": [
    {
     "name": "stdout",
     "output_type": "stream",
     "text": [
      "In 96 Seconds WhatsApp will open and after 15 Seconds Message will be Delivered!\n",
      "Successfully Sent!\n"
     ]
    }
   ],
   "source": [
    "import pywhatkit\n",
    "try:   \n",
    "    # sending message to receiver\n",
    "    # using pywhatkit\n",
    "    p=\"+91\"+phone_number\n",
    "    pywhatkit.sendwhatmsg(p,message,h, m)\n",
    "    \n",
    "    print(\"Successfully Sent!\")\n",
    "except:\n",
    "    print(\"An Unexpected Error!\")\n"
   ]
  },
  {
   "cell_type": "code",
   "execution_count": 51,
   "metadata": {},
   "outputs": [
    {
     "data": {
      "text/plain": [
       "4.882999999999998"
      ]
     },
     "execution_count": 51,
     "metadata": {},
     "output_type": "execute_result"
    }
   ],
   "source": [
    "result"
   ]
  },
  {
   "cell_type": "code",
   "execution_count": null,
   "metadata": {},
   "outputs": [],
   "source": []
  }
 ],
 "metadata": {
  "interpreter": {
   "hash": "82ed002fa2d4956f5c6aec99bcefe0f73a9f79882f3c9e2319b14958a5896ac5"
  },
  "kernelspec": {
   "display_name": "Python 3 (ipykernel)",
   "language": "python",
   "name": "python3"
  },
  "language_info": {
   "codemirror_mode": {
    "name": "ipython",
    "version": 3
   },
   "file_extension": ".py",
   "mimetype": "text/x-python",
   "name": "python",
   "nbconvert_exporter": "python",
   "pygments_lexer": "ipython3",
   "version": "3.9.7"
  }
 },
 "nbformat": 4,
 "nbformat_minor": 2
}
